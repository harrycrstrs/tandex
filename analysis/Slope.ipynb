{
 "cells": [
  {
   "cell_type": "markdown",
   "metadata": {},
   "source": [
    "# Slope Analysis in Gabon Study Area"
   ]
  },
  {
   "cell_type": "code",
   "execution_count": 2,
   "metadata": {},
   "outputs": [],
   "source": [
    "import xarray as xr\n",
    "import os \n",
    "import glob\n",
    "from matplotlib import pyplot as plt\n",
    "import numpy as np\n",
    "import rioxarray as rx\n",
    "import geopandas as gpd\n",
    "from datetime import datetime as dt\n",
    "import pandas as pd\n",
    "from mpl_toolkits.axes_grid1 import AxesGrid\n",
    "from mpl_toolkits.axes_grid1 import ImageGrid\n",
    "from scipy import stats\n",
    "from matplotlib import rc\n",
    "import rasterio as rio"
   ]
  },
  {
   "cell_type": "code",
   "execution_count": 3,
   "metadata": {},
   "outputs": [],
   "source": [
    "R = '/exports/csce/datastore/geos/users/s1332488/chapter1_data/'\n",
    "slope = xr.open_rasterio(R+'elevation/Slope_Gabon.tif').rio.write_crs('EPSG:4326')\n",
    "# SRTM slope calculated at 30 m from SRTM data in Google Earth Enginge\n",
    "slope_br = xr.open_rasterio(R+'elevation/tapajos_plots_slope.tif').rio.write_crs('EPSG:4326')"
   ]
  },
  {
   "cell_type": "code",
   "execution_count": 4,
   "metadata": {},
   "outputs": [],
   "source": [
    "# Get plot shapefiles -------------------------------------------\n",
    "SHP_dir='/exports/csce/datastore/geos/groups/MitchardGroupData/FODEX/core_plot_shapefiles/'\n",
    "shps = gpd.read_file(SHP_dir+'core_plots_10mBuffer.shp')\n",
    "#shps_nobuff = gpd.read_file(SHP_dir+'core_plots.shp')\n",
    "shps_bg = gpd.read_file(SHP_dir+'background_plots.shp')\n",
    "lidar = gpd.read_file(R+'elevation/lidar_extent.shp')\n",
    "\n",
    "def crop(ds,plot,all_touched=False):\n",
    "    # Crop an xarray object 'ds' to plot\n",
    "    # plot is a string e.g. 'PC1' or 'GC4'\n",
    "    # pass all_touched = True to include pixels that partially intersect the plot\n",
    "    #ds.rio.set_spatial_dims(x_dim='lon', y_dim='lat', inplace=True)\n",
    "    if 'B' in plot:\n",
    "        shape = shps_bg[shps_bg.layer==plot].geometry\n",
    "    else:\n",
    "        shape = shps[shps.layer==plot].geometry\n",
    "    return ds.rio.clip(shape,all_touched=all_touched)"
   ]
  },
  {
   "cell_type": "code",
   "execution_count": 5,
   "metadata": {
    "scrolled": true
   },
   "outputs": [
    {
     "data": {
      "image/png": "[encoded data removed]",
      "text/plain": [
       "<Figure size 432x288 with 1 Axes>"
      ]
     },
     "metadata": {
      "needs_background": "light"
     },
     "output_type": "display_data"
    }
   ],
   "source": [
    "plt.rcParams.update({'font.size': 14})\n",
    "\n",
    "#rc('font',**{'family':'sans-serif','sans-serif':['Helvetica']})\n",
    "rc('font',**{'family':'serif','serif':['Times']})\n",
    "rc('text', usetex=True)\n",
    "\n",
    "core_plots = []\n",
    "bg_plots = []\n",
    "\n",
    "for p in ['GC' + i for i in ['1','2','3','4']]:\n",
    "    core_plots += list(crop(slope,p).values.flatten())\n",
    "for p in ['GB' + i for i in ['1','2','3','4','5','6']]:\n",
    "    bg_plots += list(crop(slope,p).values.flatten())\n",
    "plt.hist(core_plots,density=True,alpha=1,label='Logged Plots',color='#fffb01',bins=7)\n",
    "plt.hist(bg_plots,density=True,alpha=0.75,label='Control Plots',color='grey',bins=7)\n",
    "slope.plot.hist(density=True,range=(0,30),bins=20,histtype=u'step',\n",
    "                       color='black',label='Region',lw=2)\n",
    "slope.rio.clip(lidar.geometry).plot.hist(density=True,range=(0,30),\n",
    "                                         bins=20,histtype=u'step',label='Lidar',color='red',\n",
    "                                         alpha=0.5,lw=3)\n",
    "#slope_br.plot.hist(density=True,label='Tapajos',histtype=u'step',color='green',bins=15)\n",
    "plt.title('')\n",
    "plt.xlabel('SRTM 30m Terrain Slope (degrees)',)\n",
    "plt.ylabel('Normalised Count',)\n",
    "plt.legend()\n",
    "plt.savefig('/home/s1332488/chapter1/figure2/hist.png',dpi=300)\n",
    "plt.show()"
   ]
  },
  {
   "cell_type": "markdown",
   "metadata": {},
   "source": [
    "## Analysis of slope across tropical rainforests"
   ]
  },
  {
   "cell_type": "code",
   "execution_count": 4,
   "metadata": {},
   "outputs": [],
   "source": [
    "slope_90 = R+'elevation/HTF_slope90_merged.tif'\n",
    "slope_90 = xr.open_rasterio(slope_90)\n",
    "# FIRST BAND 1km resolution raster containing 90th percentile of SRTM slopes in each pixel\n",
    "# masked to contain only tropical rainforest areas\n",
    "# I.e. if a pixel contians the value 15, \n",
    "# then ten percent of the land in that 1 km cell is sloping by at least 15 degrees\n",
    "# SECOND BAND - fraction of 1km cell covered by primary humid tropical forest in 2001"
   ]
  },
  {
   "cell_type": "code",
   "execution_count": 5,
   "metadata": {},
   "outputs": [],
   "source": [
    "def percent_hilly(H): # H is slope value     \n",
    "    hilly = slope_90.sel(band=1) >= H\n",
    "    hilly_forest = (slope_90.sel(band=2) * hilly).sum()\n",
    "    not_hilly_forest = (slope_90.sel(band=2) * ~hilly).sum()\n",
    "\n",
    "    return float( 100 * hilly_forest / (hilly_forest + not_hilly_forest) )"
   ]
  },
  {
   "cell_type": "code",
   "execution_count": 6,
   "metadata": {},
   "outputs": [],
   "source": [
    "ph10 = percent_hilly(10)\n",
    "ph20 = percent_hilly(20)\n",
    "ph30 = percent_hilly(30)\n",
    "ph40 = percent_hilly(40)"
   ]
  },
  {
   "cell_type": "code",
   "execution_count": 8,
   "metadata": {},
   "outputs": [
    {
     "data": {
      "text/plain": [
       "48.68499051570994"
      ]
     },
     "execution_count": 8,
     "metadata": {},
     "output_type": "execute_result"
    }
   ],
   "source": [
    "# Percent of pixels where more than 10% of slopes are greater than 10 degrees\n",
    "ph10"
   ]
  }
 ],
 "metadata": {
  "kernelspec": {
   "display_name": "XR",
   "language": "python",
   "name": "xr"
  },
  "language_info": {
   "codemirror_mode": {
    "name": "ipython",
    "version": 3
   },
   "file_extension": ".py",
   "mimetype": "text/x-python",
   "name": "python",
   "nbconvert_exporter": "python",
   "pygments_lexer": "ipython3",
   "version": "3.7.10"
  }
 },
 "nbformat": 4,
 "nbformat_minor": 2
}
