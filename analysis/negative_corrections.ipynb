{
 "cells": [
  {
   "cell_type": "markdown",
   "metadata": {},
   "source": [
    "## Corrections to TDX netCDF files"
   ]
  },
  {
   "cell_type": "markdown",
   "metadata": {},
   "source": [
    "This code was necessary because the initial processing runs (with Multilooks of 4,8,16 and 32) had a bug, meaning that they didn't take into account which satellite was the primary satellite. \n",
    "\n",
    "For the ascending images, the height values from 11th Jan 2020 and 13th Feb 2020 had an extra negative sign. In the descending passes, the height values from 22nd Dec had an extra negative sign.\n",
    "\n",
    "In addition, the ascending image from the 6th November, with too small a height of ambiguity, is dropped from the data."
   ]
  },
  {
   "cell_type": "code",
   "execution_count": 1,
   "metadata": {},
   "outputs": [
    {
     "data": {
      "text/plain": [
       "['TDX_DEM_GAB_SM_A_ML6_merged.nc',\n",
       " 'TDX_DEM_GAB_SM_A_ML3_merged.nc',\n",
       " 'TDX_DEM_GAB_SM_D_ML28_merged.nc',\n",
       " 'TDX_DEM_GAB_SM_A_ML10_merged.nc',\n",
       " 'TDX_DEM_GAB_SM_A_ML28_merged.nc',\n",
       " 'TDX_DEM_GAB_SM_A_ML4_merged.nc',\n",
       " 'TDX_DEM_GAB_SM_A_ML20_merged.nc',\n",
       " 'TDX_DEM_GAB_SM_A_ML9_merged.nc',\n",
       " 'TDX_DEM_GAB_SM_D_ML4_merged.nc',\n",
       " 'TDX_DEM_GAB_SM_A_ML32_merged.nc',\n",
       " 'TDX_DEM_GAB_SM_A_ML14_merged.nc',\n",
       " 'TDX_DEM_GAB_SM_A_ML2_merged.nc',\n",
       " 'TDX_DEM_GAB_SM_D_ML12_merged.nc',\n",
       " 'TDX_DEM_GAB_SM_D_ML20_merged.nc',\n",
       " 'TDX_DEM_GAB_SM_D_ML16_merged.nc',\n",
       " 'TDX_DEM_GAB_SM_A_ML12_merged.nc',\n",
       " 'TDX_DEM_GAB_SM_D_ML9_merged.nc',\n",
       " 'TDX_DEM_GAB_SM_D_ML6_merged.nc',\n",
       " 'TDX_DEM_GAB_SM_A_ML5_merged.nc',\n",
       " 'TDX_DEM_GAB_SM_D_ML32_merged.nc',\n",
       " 'TDX_DEM_GAB_SM_D_ML3_merged.nc',\n",
       " 'TDX_DEM_GAB_SM_A_ML8_merged.nc',\n",
       " 'TDX_DEM_GAB_SM_D_ML7_merged.nc',\n",
       " 'TDX_DEM_GAB_SM_D_ML24_merged.nc',\n",
       " 'TDX_DEM_GAB_SM_A_ML7_merged.nc',\n",
       " 'TDX_DEM_GAB_SM_A_ML24_merged.nc',\n",
       " 'TDX_DEM_GAB_SM_D_ML10_merged.nc',\n",
       " 'TDX_DEM_GAB_SM_D_ML8_merged.nc',\n",
       " 'TDX_DEM_GAB_SM_D_ML5_merged.nc',\n",
       " 'TDX_DEM_GAB_SM_D_ML14_merged.nc',\n",
       " 'TDX_DEM_GAB_SM_A_ML16_merged.nc']"
      ]
     },
     "execution_count": 1,
     "metadata": {},
     "output_type": "execute_result"
    }
   ],
   "source": [
    "import xarray as xr\n",
    "import os \n",
    "import glob\n",
    "from matplotlib import pyplot as plt\n",
    "import numpy as np\n",
    "import rioxarray as rx\n",
    "import geopandas as gpd\n",
    "from datetime import datetime as dt\n",
    "import pandas as pd\n",
    "from mpl_toolkits.axes_grid1 import AxesGrid\n",
    "from mpl_toolkits.axes_grid1 import ImageGrid\n",
    "\n",
    "def open_ds(filename):\n",
    "    ds = xr.open_dataset(filename).drop(['metadata','crs']).rio.write_crs('EPSG:4326')\n",
    "    #if 'GAB' in filename:\n",
    "    #    ds = ds.isel(t=slice(1,None)) # First image is waay off for some reason in Gabon\n",
    "    return ds\n",
    "\n",
    "data_dir = '/disk/scratch/local.4/harry/DEM/NC/merged/full/'\n",
    "os.chdir(data_dir)\n",
    "files=glob.glob('*_GAB_*.nc')\n",
    "files"
   ]
  },
  {
   "cell_type": "code",
   "execution_count": 3,
   "metadata": {},
   "outputs": [],
   "source": [
    "for f in files:\n",
    "    ds= xr.open_dataset(f)\n",
    "    if ds.t.size == 5:\n",
    "        ds = ds.isel(t=slice(1,None))\n",
    "    if '_ML4_' in f or '_ML8_' in f or '_ML16_' in f or '_ML32_' in f:\n",
    "        if '_D_' in f:\n",
    "            ds['height'][1,:,:] = -ds['height'][1,:,:]\n",
    "        if '_A_' in f:\n",
    "            ds['height'][0,:,:] = -ds['height'][0,:,:]\n",
    "            ds['height'][-1,:,:] = -ds['height'][-1,:,:]\n",
    "    out = f.split('.nc')[0] +'_corrected.nc'\n",
    "    out = '/disk/scratch/local.4/harry/DEM/NC/merged/full/corrected/'+out\n",
    "    ds.to_netcdf(out)"
   ]
  }
 ],
 "metadata": {
  "kernelspec": {
   "display_name": "XR",
   "language": "python",
   "name": "xr"
  },
  "language_info": {
   "codemirror_mode": {
    "name": "ipython",
    "version": 3
   },
   "file_extension": ".py",
   "mimetype": "text/x-python",
   "name": "python",
   "nbconvert_exporter": "python",
   "pygments_lexer": "ipython3",
   "version": "3.7.10"
  }
 },
 "nbformat": 4,
 "nbformat_minor": 2
}
